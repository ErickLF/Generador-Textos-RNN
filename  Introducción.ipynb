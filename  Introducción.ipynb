{
 "cells": [
  {
   "cell_type": "markdown",
   "metadata": {},
   "source": [
    "\n",
    "# Proyecto\n",
    "### Erick Fernando López Fimbres.  \n",
    "#### erick.lopez.fimbres@gmail.com"
   ]
  },
  {
   "cell_type": "markdown",
   "metadata": {},
   "source": [
    "## Definición\n",
    "\n",
    "Para la realización de este proyecto debemos seleccionar un tema de interes, en mi caso buscare información acerca de todos los temas relacionados con enfermedades (síndromes,transtornos, enfermedades raras,etc).\n",
    "\n",
    "Para obtener nuestra base de datos con la cual trabajar (es decir de donde obtendremos los datos) utilizaremos wikipedia, para poder descargar los archivos debemos de ingresar a la siguiente pagína. La cual puede acceder directamente desde aquí [Wikipedia/Exportar](https://es.wikipedia.org/wiki/Especial:Exportar)\n",
    "\n",
    "![](imagenes/exportar_wiki.png)\n",
    "\n",
    "Para utilizarla, solo debemos agregar una categoria, la que sea de nuestro agrado y dar click en añadir, para asi desplegar toda la información que contiene dicho tema que has añadido.\n",
    "\n",
    "![](imagenes/exportar_wiki_2.png)\n",
    "\n",
    "Cabe mencionar que nos arrojara sub-categorías por lo cual habrá que repetir los pasos anteriores hasta tener todos los temas sin ninguna categoría.\n",
    "\n",
    "En mi caso cada vez que ponía una categoría a veces me duplicaba información que ya tenia, para ello he decidido elaborar un programa que me ayude a filtrar los temas, para así no duplicar los temas, con lo que así me evitare no estar viendo uno por uno si ese tema ya fue agregado previamente y solo me encargaré de decidir que temas quiero y cuales no.\n"
   ]
  },
  {
   "cell_type": "code",
   "execution_count": 23,
   "metadata": {
    "collapsed": false
   },
   "outputs": [
    {
     "name": "stdout",
     "output_type": "stream",
     "text": [
      "Primeros 10 artículos: \n",
      "\n",
      "Infantilismo\n",
      "\n",
      "Pectus_excavatum\n",
      "\n",
      "Pectus_carinatum\n",
      "\n",
      "Onfalocele\n",
      "\n",
      "Período_prepatogénico\n",
      "\n",
      "Enfermedad_gastrointestinal\n",
      "\n",
      "Mal_de_montaña_crónico\n",
      "\n",
      "Fibrosis\n",
      "\n",
      "Meteoropatía\n",
      "\n",
      "Linfangitis\n",
      "\n",
      "Número de artículos en total:  1658\n"
     ]
    }
   ],
   "source": [
    "#filtrar los datos repetidos\n",
    "archivo=open('datos/archivo_categorias.txt')\n",
    "linea=archivo.readline()\n",
    "datos_limpios=list()\n",
    "while linea != \"\":\n",
    "    if linea not in datos_limpios:\n",
    "        datos_limpios.append(linea)    \n",
    "    linea=archivo.readline()\n",
    "archivo.close()\n",
    "\n",
    "print(\"Primeros 10 artículos: \\n\")\n",
    "for x in range(10):\n",
    "    print(datos_limpios[x])\n",
    "print(\"Número de artículos en total: \",len(datos_limpios))"
   ]
  },
  {
   "cell_type": "markdown",
   "metadata": {},
   "source": [
    "Listo, ahora tenemos nuestros datos mucho mas limpios (sin articulos repetidos) y en un menor tiempo que si lo hubieramos hecho a mano, ahora procederemos a trabajar con los datos en la siguiente libreta."
   ]
  }
 ],
 "metadata": {
  "celltoolbar": "Raw Cell Format",
  "kernelspec": {
   "display_name": "Python 3",
   "language": "python",
   "name": "python3"
  },
  "language_info": {
   "codemirror_mode": {
    "name": "ipython",
    "version": 3
   },
   "file_extension": ".py",
   "mimetype": "text/x-python",
   "name": "python",
   "nbconvert_exporter": "python",
   "pygments_lexer": "ipython3",
   "version": "3.6.0"
  }
 },
 "nbformat": 4,
 "nbformat_minor": 0
}
