{
 "cells": [
  {
   "cell_type": "markdown",
   "metadata": {},
   "source": [
    "\n",
    "# Generador de textos \"La Biblia\"\n",
    "### Erick Fernando López Fimbres.  \n",
    "#### erick.lopez.fimbres@gmail.com"
   ]
  },
  {
   "cell_type": "markdown",
   "metadata": {},
   "source": [
    "## Definición\n",
    "\n",
    "Para la realizacion de esta libreta fue elaborado a partir de esta otra [libreta](https://github.com/spro/practical-pytorch/blob/master/char-rnn-generation/char-rnn-generation.ipynb) la cual se encuentra en el idioma ingles, utilizaremos las bases para nuestro proyecto haciendo algunas modificaciónes con nuestro dataset de [municipios de México](datos/BIBLIA_COMPLETA.txt).\n",
    "Nuestro proposito es generar parrafos los cuales se generan caracter por caracter a partir deldocumento de la biblia utilizando el framework de redes profundas **PyTorch**.\n",
    "\n",
    "\n"
   ]
  },
  {
   "cell_type": "markdown",
   "metadata": {},
   "source": [
    "## Preparación de datos \n",
    "\n",
    "Si no tienes instalada la libreria unidecode ingresa el siguiente comando en Linux\n",
    "```\n",
    "conda install -c anaconda unidecode\n",
    "```"
   ]
  },
  {
   "cell_type": "code",
   "execution_count": 6,
   "metadata": {},
   "outputs": [
    {
     "name": "stdout",
     "output_type": "stream",
     "text": [
      "Tamaño del archivo en caracteres:  4041437\n"
     ]
    }
   ],
   "source": [
    "import unidecode\n",
    "import string\n",
    "import random\n",
    "import re\n",
    "\n",
    "#para la clase RNN\n",
    "import torch\n",
    "import torch.nn as nn\n",
    "from torch.autograd import Variable\n",
    "\n",
    "#Para medir tiempos de ejecucion y calculos \n",
    "import time, math\n",
    "\n",
    "todos_caracteres = string.printable\n",
    "n_caracteres = len(todos_caracteres)\n",
    "\n",
    "archivo = unidecode.unidecode(open('datos/BIBLIA_COMPLETA.txt',encoding=\"ISO-8859-1\").read())\n",
    "tam_archivo = len(archivo)\n",
    "print('Tamaño del archivo en caracteres: ', tam_archivo)"
   ]
  },
  {
   "cell_type": "markdown",
   "metadata": {},
   "source": [
    "Ahora fragmentaremos el texto"
   ]
  },
  {
   "cell_type": "code",
   "execution_count": 14,
   "metadata": {},
   "outputs": [
    {
     "name": "stdout",
     "output_type": "stream",
     "text": [
      "No obran mas bien ellos mismos su propia confusion? 20 Por tanto, asi ha dicho Jehova el Senor: He aqui que mi furor y mi ira se derramaran sobre este lugar, sobre los hombres, sobre los animales, sobre los arboles del campo y sobre los frutos de la tierra; se encenderan, y no se apagaran. \n",
      "\n",
      "Castigo de la rebelion de Juda\n",
      "\n",
      "21 Asi ha dicho Jehova de los ejercitos, Dios de Israel: Anadid vuestros holocaustos sobre vuestros sacrificios, y comed la carne. 22 Porque no hable yo con vuestros padres, ni nada les mande acerca de holocaustos y de victimas el dia que los saque de la tierra de Egipto. 23 Mas esto les mande, diciendo: Escuchad mi voz, y sere a vosotros por Dios, y vosotros me sereis por pueblo; y andad en todo camino que os mande, para que os vaya bien. 24 Y no oyeron ni inclinaron su oido; antes caminaron en sus propios consejos, en la dureza de su corazon malvado, y fueron hacia atras y no hacia adelante, 25 desde el dia que vuestros padres salieron de la tierra de Egipto hasta h\n"
     ]
    }
   ],
   "source": [
    "longitud_fragmento = 1000\n",
    "\n",
    "def fragmento_aleatorio():\n",
    "    i_ini = random.randint(0, tam_archivo - longitud_fragmento)\n",
    "    i_final = i_ini + longitud_fragmento + 1\n",
    "    return archivo[i_ini:i_final]\n",
    "\n",
    "print(fragmento_aleatorio())"
   ]
  },
  {
   "cell_type": "markdown",
   "metadata": {},
   "source": [
    "## Construyendo el modelo"
   ]
  },
  {
   "cell_type": "code",
   "execution_count": 15,
   "metadata": {},
   "outputs": [],
   "source": [
    "class RNN(nn.Module):\n",
    "    def __init__(self, tam_entrada, tam_oculto, tam_salida, num_capas=1):\n",
    "        super(RNN, self).__init__()\n",
    "        self.tam_entrada = tam_entrada\n",
    "        self.tam_oculto = tam_oculto\n",
    "        self.tam_salida = tam_salida\n",
    "        self.num_capas = num_capas\n",
    "        \n",
    "        self.encoder = nn.Embedding(tam_entrada, tam_oculto)\n",
    "        self.gru = nn.GRU(tam_oculto, tam_oculto, num_capas)\n",
    "        self.decoder = nn.Linear(tam_oculto, tam_salida)\n",
    "    \n",
    "    def forward(self, entrada, oculta):\n",
    "        entrada = self.encoder(entrada.view(1, -1))\n",
    "        salida, oculta = self.gru(entrada.view(1, 1, -1), oculta)\n",
    "        salida = self.decoder(salida.view(1, -1))\n",
    "        return salida, oculta\n",
    "\n",
    "    def init_hidden(self):\n",
    "        return Variable(torch.zeros(self.num_capas, 1, self.tam_oculto))"
   ]
  },
  {
   "cell_type": "markdown",
   "metadata": {},
   "source": [
    "## Entradas y objetivos"
   ]
  },
  {
   "cell_type": "code",
   "execution_count": 16,
   "metadata": {},
   "outputs": [
    {
     "name": "stdout",
     "output_type": "stream",
     "text": [
      "Variable containing:\n",
      " 10\n",
      " 11\n",
      " 12\n",
      " 39\n",
      " 40\n",
      " 41\n",
      "[torch.LongTensor of size 6]\n",
      "\n"
     ]
    }
   ],
   "source": [
    "# Convierta la cadena en una lista larga\n",
    "def caracter_tensor(string):\n",
    "    tensor = torch.zeros(len(string)).long()\n",
    "    for c in range(len(string)):\n",
    "        tensor[c] = todos_caracteres.index(string[c])\n",
    "    return Variable(tensor)\n",
    "\n",
    "print(caracter_tensor('abcDEF'))"
   ]
  },
  {
   "cell_type": "code",
   "execution_count": 17,
   "metadata": {},
   "outputs": [],
   "source": [
    "def conjunto_entrenamiento_aleatorio():    \n",
    "    pedazo = fragmento_aleatorio()\n",
    "    entrada = caracter_tensor(pedazo[:-1])\n",
    "    objetivo = caracter_tensor(pedazo[1:])\n",
    "    return entrada, objetivo"
   ]
  },
  {
   "cell_type": "markdown",
   "metadata": {},
   "source": [
    "## Evaluando\n",
    "\n",
    "Para evaluar la red la alimentaremos con un carácter a la vez, usaremos los resultados de la red como una distribución de probabilidad para el siguiente carácter y repetiremos este proceso."
   ]
  },
  {
   "cell_type": "code",
   "execution_count": 18,
   "metadata": {},
   "outputs": [],
   "source": [
    "def evaluar(prime_str='A', predict_len=100, temperature=0.8):\n",
    "    oculta = decoder.init_hidden()\n",
    "    entrada_principal = caracter_tensor(prime_str)\n",
    "    prediccion = prime_str\n",
    "\n",
    "    # Use priming string to \"build up\" hidden state\n",
    "    for p in range(len(prime_str) - 1):\n",
    "        _, oculta = decoder(entrada_principal[p], oculta)\n",
    "    entrada = entrada_principal[-1]\n",
    "    \n",
    "    for p in range(predict_len):\n",
    "        salida, oculta = decoder(entrada, oculta)\n",
    "        \n",
    "        # Muestra de la red como una distribución multinomial\n",
    "        distribucion_salida = salida.data.view(-1).div(temperature).exp()\n",
    "        top_i = torch.multinomial(distribucion_salida, 1)[0]\n",
    "        \n",
    "        # Add predicted character to string and use as next input\n",
    "        caracter_predicho = todos_caracteres[top_i]\n",
    "        prediccion += caracter_predicho\n",
    "        entrada = caracter_tensor(caracter_predicho)\n",
    "\n",
    "    return prediccion"
   ]
  },
  {
   "cell_type": "markdown",
   "metadata": {},
   "source": [
    "## Entrenamiento"
   ]
  },
  {
   "cell_type": "code",
   "execution_count": 19,
   "metadata": {},
   "outputs": [],
   "source": [
    "def tiempo(since):\n",
    "    s = time.time() - since\n",
    "    m = math.floor(s / 60)\n",
    "    s -= m * 60\n",
    "    return '%dm %ds' % (m, s)"
   ]
  },
  {
   "cell_type": "code",
   "execution_count": 20,
   "metadata": {},
   "outputs": [],
   "source": [
    "def entrenamiento(entrada, objetivo):\n",
    "    oculta = decoder.init_hidden()\n",
    "    decoder.zero_grad()\n",
    "    perdida = 0\n",
    "\n",
    "    for c in range(longitud_fragmento):\n",
    "        salida, oculta = decoder(entrada[c], oculta)\n",
    "        perdida += criterion(salida, objetivo[c])\n",
    "\n",
    "    perdida.backward()\n",
    "    decoder_optimizer.step()\n",
    "\n",
    "    return perdida.data[0] / longitud_fragmento"
   ]
  },
  {
   "cell_type": "markdown",
   "metadata": {},
   "source": [
    "Definimos los parámetros de entrenamiento, instanciamos el modelo y comenzamos a entrenar:"
   ]
  },
  {
   "cell_type": "code",
   "execution_count": 23,
   "metadata": {},
   "outputs": [
    {
     "name": "stdout",
     "output_type": "stream",
     "text": [
      "[11m 38s (100 5%) 2.1127]\n",
      "Jies Cues benterado tecara su de veraz al aite a sante puebcontante tocftamlacara estala reamran-ra p \n",
      "\n",
      "[22m 56s (200 10%) 1.8003]\n",
      "Jcrijo de la de entrosta los he allalas contando carme; y manciado de Isran cervis acortie la ya ni l \n",
      "\n",
      "[34m 25s (300 15%) 1.6622]\n",
      "Jj\"hado su agertonos; teimo se que guan estaledios en le gintidias, y los parenigo en la tierran mas  \n",
      "\n",
      "[45m 43s (400 20%) 1.7614]\n",
      "J-fijo a tay se jodia en ti aldelarita ella de mi las para soy sierto, que ha cierran en a la corviri \n",
      "\n",
      "[297m 43s (500 25%) 1.5602]\n",
      "J|ban de Poraquio hambien a la contalen de efero del haces los he Israel. Y este de Galam, diciendo l \n",
      "\n",
      "[314m 21s (600 30%) 1.5627]\n",
      "JMi|d, y candas de Jospues sina grande conias, y que habia Dios. 8 Y tanto mas senerasetes dor; Jehov \n",
      "\n",
      "[332m 3s (700 35%) 1.6306]\n",
      "J!ACON-PRZM>; Oy huyo camino la juda de Jehova de laba a Josuhos de los hombras contra que sus mieros \n",
      "\n",
      "[349m 4s (800 40%) 1.3647]\n",
      "Jododes, yo los hermano de los ida la sallaran de bed tu camas, todos los osrezando en con su el rey  \n",
      "\n",
      "[368m 4s (900 45%) 1.4780]\n",
      "Jedad y procernado es diciendo: \n",
      "15 Abucha a todo olvio, y las limes a sus corazon: ?Y las segundo su \n",
      "\n",
      "[383m 3s (1000 50%) 1.4614]\n",
      "Jeno, pues del rey ardicamos la ciurar de la sierita. 20 Lo nuestra mas min del penos habian estaban  \n",
      "\n",
      "[404m 35s (1100 55%) 1.5692]\n",
      "JIQY, recibidos la corazon, porque estan a aquel he que al pareta de la casa del que habia de sus cab \n",
      "\n",
      "[423m 10s (1200 60%) 1.4444]\n",
      "J&eljemos, y sanogio vida Jesucer yo se esta tiene al diera; y se servid, y maltara asi comerme a mi  \n",
      "\n",
      "[438m 5s (1300 65%) 1.3790]\n",
      "JJWue enverdado es curio del Eljero Mar. 1 Y nosotro Jerusalen a los hijos a Lova de la tierra con re \n",
      "\n",
      "[453m 25s (1400 70%) 1.6343]\n",
      "JAy 28\n",
      "\n",
      "1 Ante, para Jehova en esta, descendida es el dia se ha sera sobre ser entregaros, confian de \n",
      "\n",
      "[466m 52s (1500 75%) 1.4443]\n",
      "JGero que mis senor contra de la santia de Juda, y al ninentes hasta he haber se cuando su presada, y \n",
      "\n",
      "[1219m 54s (1600 80%) 1.5416]\n",
      "JEISDOTTPTIO RINEOOS 31\n",
      "\n",
      "1 TENLINONIL(JINCIICNMAPEONOMOOGI PERUASIRS \n",
      "\n",
      "13 TAS LONIAJIIS VEERS; 19.1-1 \n",
      "\n",
      "[1231m 51s (1700 85%) 1.4905]\n",
      "Jerotos, y a Jehova, habita de Jehova, para uno que el rey de disenos la cosas; ano de hablado para c \n",
      "\n",
      "[1244m 40s (1800 90%) 1.5801]\n",
      "Jehova, y delante de Israen, de las casas. \n",
      "\n",
      "11 Pero nombre el pueblo en el Senor de los manos seinos \n",
      "\n",
      "[1257m 20s (1900 95%) 1.5980]\n",
      "JOLEF&9Lq6ORB 1\n",
      "\n",
      "1 En tambien contigo, en mi tiempo. \n",
      "\n",
      "\n",
      "\n",
      "\n",
      "Por la contigaran estas Jesustos, la tierra \n",
      "\n",
      "[1272m 14s (2000 100%) 1.4136]\n",
      "Joh: Ahoacieran todo los justicias a la tambien que Jehova a tine el gupid cansanza me la tierra de G \n",
      "\n"
     ]
    }
   ],
   "source": [
    "max_epoch = 2000 #numero de epoch para el entrenamiento\n",
    "impresion = 100\n",
    "graficar = 10\n",
    "tam_oculto = 100\n",
    "num_capas = 2\n",
    "epsilon = 0.005\n",
    "\n",
    "decoder = RNN(n_caracteres, tam_oculto, n_caracteres, num_capas)\n",
    "decoder_optimizer = torch.optim.Adam(decoder.parameters(), lr=epsilon)\n",
    "criterion = nn.CrossEntropyLoss()\n",
    "\n",
    "comienzo = time.time()\n",
    "historial_perdidas = []\n",
    "prmedio_perdida = 0\n",
    "\n",
    "for epoch in range(1, max_epoch + 1):\n",
    "    perdida = entrenamiento(*conjunto_entrenamiento_aleatorio())       \n",
    "    prmedio_perdida += perdida\n",
    "\n",
    "    if epoch % impresion == 0:\n",
    "        print('[%s (%d %d%%) %.4f]' % (tiempo(comienzo), epoch, epoch / max_epoch * 100, perdida))\n",
    "        print(evaluar('J', 100), '\\n')\n",
    "\n",
    "    if epoch % graficar == 0:\n",
    "        historial_perdidas.append(prmedio_perdida / graficar)\n",
    "        prmedio_perdida = 0"
   ]
  },
  {
   "cell_type": "markdown",
   "metadata": {},
   "source": [
    "## Graficación de los errores"
   ]
  },
  {
   "cell_type": "code",
   "execution_count": 26,
   "metadata": {},
   "outputs": [
    {
     "data": {
      "text/plain": [
       "[<matplotlib.lines.Line2D at 0x7f51b11cb160>]"
      ]
     },
     "execution_count": 26,
     "metadata": {},
     "output_type": "execute_result"
    },
    {
     "data": {
      "image/png": "[encoded data removed]",
      "text/plain": [
       "<matplotlib.figure.Figure at 0x7f51abf7e940>"
      ]
     },
     "metadata": {},
     "output_type": "display_data"
    }
   ],
   "source": [
    "import matplotlib.pyplot as plt\n",
    "import matplotlib.ticker as ticker\n",
    "%matplotlib inline\n",
    "\n",
    "plt.figure()\n",
    "plt.plot(historial_perdidas)"
   ]
  },
  {
   "cell_type": "markdown",
   "metadata": {},
   "source": [
    "## Resultados con diferentes temperaturas \n",
    "\n",
    "En la función de evaluación anterior, cada vez que se realiza una predicción, las salidas se dividen por el argumento \"temperatura\" pasado. Usar un número más alto hace que todas las acciones sean más equitativas y, por lo tanto, nos brinda salidas \"más aleatorias\".\n",
    "\n",
    "Usar un valor más bajo (menos de 1) hace que las probabilidades altas contribuyan más. A medida que aumentamos la temperatura hacia cero, estamos eligiendo solo las salidas más probables."
   ]
  },
  {
   "cell_type": "code",
   "execution_count": 65,
   "metadata": {},
   "outputs": [
    {
     "name": "stdout",
     "output_type": "stream",
     "text": [
      "Dios volvio por lleguidor votos te has compasion a ellos, del efeladro y que envian para fueron; y no con las sangres de la piedra a Cristo. \n",
      "\n",
      "La efel, consutalo nado testigo, y de la tierra lo que habitaraamente boce a los hijos y hijo mil medio que ha que se lanta con estas tambien el called de ella por sus sitomos. 8 De los ha se dijo: Jehova: De ellos mientes bebera en cacho han estovo de la tierra de Sion, para quedara Juda, nados habia habia hermano, sino que el anigar en vuestro Dios, al tiempo en el sabeis, y a para que te tambien a ti dara envio que la tierra temor, y al tendra, y cuales te entre los ganozoras y su padre. 3 Y al ribaria y ser vendra que este bien, sino que el Dios, al malor a Ahora de sus hijos de los reyes, y de abrio y los libanzas, y las lados, en todas las entres de verdotes, ni fuego traereis sera todas las libando al ganado. 5 No te diciendo la tierra a el Senor, el que estan traidonia de ellos a mi hiervo, y con el tomado a la castad que para el camino dijo: \n"
     ]
    }
   ],
   "source": [
    "print(evaluar('Dios v', 1000, temperature=0.8))"
   ]
  },
  {
   "cell_type": "code",
   "execution_count": 34,
   "metadata": {},
   "outputs": [
    {
     "name": "stdout",
     "output_type": "stream",
     "text": [
      "Israel de los levitas de la tierra de la tierra de los hijos de los hijos de los hijos de los que habia hecho a la tierra de los que el padre a los hijos de la tierra de los hijos de los hijos de los hijos de la tierra de la tierra de la tierra de la tierra, y la tierra de los hijos de la tierra de la tierra de la tierra de la tierra de los que el angeles de la tierra de la tierra de la tierra de la tierra de los hijos de los hijos de los hijos de la tierra de los hijos de la tierra de la tierra de la tierra de ellos. \n",
      "\n",
      "2 Y la tierra de la tierra de los que habia hijo de los hijos de los hijos de los hijos de los hijos de los padres, y la tierra de la tierra de la tierra de los hijos de la tierra de la tierra de los que habia habia habia hijo de la tierra de la tierra de los hijos de la tierra de los que habia conforme de los hijos de la tierra de la tierra de los hijos de los hijos de los que habia hecho a los hijos de los hijos de los hijos de los que habia para la tierra de los hijos de l\n"
     ]
    }
   ],
   "source": [
    "print(evaluar('Israel', 1000, temperature=0.2))"
   ]
  },
  {
   "cell_type": "code",
   "execution_count": 49,
   "metadata": {},
   "outputs": [
    {
     "name": "stdout",
     "output_type": "stream",
     "text": [
      "Jehova a tu padre. \n",
      "\n",
      "2 Esta para que habia enfermos de los hijos de Catras, y la grande son salido en ellos de los hijos de Ahora, y la tierra que habia hijo de los hijos de Cada habia trabanas partes, y te aqui el entranieron que se habia habia le sino que habia con mano de los hijos de la profeta, y con tambien la tierra de tomaron con muerte sola para que hablado con todo lo sepultado anos de los que acerca y a la tierra de aqui la casa de Zabaras que estaba para solio en todos los que el perdones de la nacion con todos los entrescion de las angalos; y de los encenderan no trabajo trabocaste a ellos al trair de los habia pan de la saldad de ello; y su que te habia de camino de sus reyes que el hombre a la tierra en rey habia hecho a tu padre. \n",
      "\n",
      "El dijo a sus hermanos, y tambien no habia hijo de Asa el partigo, de la tambien en Aseras, y se ha de la salid a los hijos de los que habia habia padre. \n",
      "\n",
      "Los que habian en la bada por mi mensan sus siervos traberas de Jehova a Mananias, y Adais a\n"
     ]
    }
   ],
   "source": [
    "print(evaluar('Jehova', 1000, temperature=.5))"
   ]
  },
  {
   "cell_type": "code",
   "execution_count": null,
   "metadata": {},
   "outputs": [],
   "source": []
  }
 ],
 "metadata": {
  "celltoolbar": "Raw Cell Format",
  "kernelspec": {
   "display_name": "Python [default]",
   "language": "python",
   "name": "python3"
  },
  "language_info": {
   "codemirror_mode": {
    "name": "ipython",
    "version": 3
   },
   "file_extension": ".py",
   "mimetype": "text/x-python",
   "name": "python",
   "nbconvert_exporter": "python",
   "pygments_lexer": "ipython3",
   "version": "3.5.4"
  }
 },
 "nbformat": 4,
 "nbformat_minor": 2
}
