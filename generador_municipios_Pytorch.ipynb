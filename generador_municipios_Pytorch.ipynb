{
 "cells": [
  {
   "cell_type": "markdown",
   "metadata": {},
   "source": [
    "\n",
    "# Generador de municipios\n",
    "### Erick Fernando López Fimbres.  \n",
    "#### erick.lopez.fimbres@gmail.com"
   ]
  },
  {
   "cell_type": "markdown",
   "metadata": {},
   "source": [
    "## Definición\n",
    "\n",
    "Para la realizacion de este programa usaremos Nivel de caracter minimo y puedes consultar el archivo original [aquí](https://gist.github.com/karpathy/d4dee566867f8291f086). \n",
    "El cual nos ayudara a generar nombres de municipios caracter por caracter a partir de los ya existentes que hay en México.\n"
   ]
  },
  {
   "cell_type": "markdown",
   "metadata": {},
   "source": [
    "## Preparación de datos \n",
    "\n",
    "Si no tienes instalada la libreria unidecode ingresa el siguiente comando en Linux\n",
    "```conda install -c anaconda unidecode```\n"
   ]
  },
  {
   "cell_type": "code",
   "execution_count": 20,
   "metadata": {},
   "outputs": [
    {
     "name": "stdout",
     "output_type": "stream",
     "text": [
      "100\n",
      "file_len = 35530\n"
     ]
    }
   ],
   "source": [
    "import unidecode\n",
    "import string\n",
    "import random\n",
    "import re\n",
    "\n",
    "#para la clase RNN\n",
    "import torch\n",
    "import torch.nn as nn\n",
    "from torch.autograd import Variable\n",
    "\n",
    "all_characters = string.printable\n",
    "n_characters = len(all_characters)\n",
    "\n",
    "print(n_characters)\n",
    "\n",
    "file = unidecode.unidecode(open('datos/municipios.txt').read())\n",
    "file_len = len(file)\n",
    "print('file_len =', file_len)"
   ]
  },
  {
   "cell_type": "markdown",
   "metadata": {},
   "source": [
    "Ahora fragmentaremos el texto"
   ]
  },
  {
   "cell_type": "code",
   "execution_count": 18,
   "metadata": {},
   "outputs": [
    {
     "name": "stdout",
     "output_type": "stream",
     "text": [
      "Tenancingo\n",
      "Tenancingo\n",
      "Tenango de Doria\n",
      "Tenango del Aire\n",
      "Tenango del Valle\n",
      "Tenejapa\n",
      "Tenochtitlan\n",
      "Tenosique\n",
      "Teocaltiche\n",
      "Teocelo\n",
      "Teococuilco de Marcos Perez\n",
      "Teocuitatlan de Corona\n",
      "Teolocholco\n",
      "Teoloyucan\n",
      "T\n"
     ]
    }
   ],
   "source": [
    "longitud_fragmento = 200\n",
    "\n",
    "def fragmento_aleatorio():\n",
    "    i_ini = random.randint(0, file_len - longitud_fragmento)\n",
    "    i_final = i_ini + longitud_fragmento + 1\n",
    "    return file[i_ini:i_final]\n",
    "\n",
    "print(fragmento_aleatorio())"
   ]
  },
  {
   "cell_type": "markdown",
   "metadata": {},
   "source": [
    "## Construyendo el modelo\n",
    "\n"
   ]
  },
  {
   "cell_type": "code",
   "execution_count": 19,
   "metadata": {},
   "outputs": [],
   "source": [
    "class RNN(nn.Module):\n",
    "    def __init__(self, input_size, hidden_size, output_size, n_layers=1):\n",
    "        super(RNN, self).__init__()\n",
    "        self.input_size = input_size\n",
    "        self.hidden_size = hidden_size\n",
    "        self.output_size = output_size\n",
    "        self.n_layers = n_layers\n",
    "        \n",
    "        self.encoder = nn.Embedding(input_size, hidden_size)\n",
    "        self.gru = nn.GRU(hidden_size, hidden_size, n_layers)\n",
    "        self.decoder = nn.Linear(hidden_size, output_size)\n",
    "    \n",
    "    def forward(self, input, hidden):\n",
    "        input = self.encoder(input.view(1, -1))\n",
    "        output, hidden = self.gru(input.view(1, 1, -1), hidden)\n",
    "        output = self.decoder(output.view(1, -1))\n",
    "        return output, hidden\n",
    "\n",
    "    def init_hidden(self):\n",
    "        return Variable(torch.zeros(self.n_layers, 1, self.hidden_size))"
   ]
  },
  {
   "cell_type": "markdown",
   "metadata": {},
   "source": [
    "## Entradas y objetivos"
   ]
  },
  {
   "cell_type": "code",
   "execution_count": 21,
   "metadata": {},
   "outputs": [
    {
     "name": "stdout",
     "output_type": "stream",
     "text": [
      "Variable containing:\n",
      " 10\n",
      " 11\n",
      " 12\n",
      " 39\n",
      " 40\n",
      " 41\n",
      "[torch.LongTensor of size 6]\n",
      "\n"
     ]
    }
   ],
   "source": [
    "# Convierta la cadena en una lista larga\n",
    "def char_tensor(string):\n",
    "    tensor = torch.zeros(len(string)).long()\n",
    "    for c in range(len(string)):\n",
    "        tensor[c] = all_characters.index(string[c])\n",
    "    return Variable(tensor)\n",
    "\n",
    "print(char_tensor('abcDEF'))"
   ]
  },
  {
   "cell_type": "code",
   "execution_count": 22,
   "metadata": {},
   "outputs": [],
   "source": [
    "def random_training_set():    \n",
    "    chunk = fragmento_aleatorio()\n",
    "    inp = char_tensor(chunk[:-1])\n",
    "    target = char_tensor(chunk[1:])\n",
    "    return inp, target"
   ]
  },
  {
   "cell_type": "markdown",
   "metadata": {},
   "source": [
    "## Evaluando\n",
    "\n",
    "Para evaluar la red la alimentaremos con un carácter a la vez, usaremos los resultados de la red como una distribución de probabilidad para el siguiente carácter y repetiremos este proceso."
   ]
  },
  {
   "cell_type": "code",
   "execution_count": 23,
   "metadata": {},
   "outputs": [],
   "source": [
    "def evaluate(prime_str='A', predict_len=100, temperature=0.8):\n",
    "    hidden = decoder.init_hidden()\n",
    "    prime_input = char_tensor(prime_str)\n",
    "    predicted = prime_str\n",
    "\n",
    "    # Use priming string to \"build up\" hidden state\n",
    "    for p in range(len(prime_str) - 1):\n",
    "        _, hidden = decoder(prime_input[p], hidden)\n",
    "    inp = prime_input[-1]\n",
    "    \n",
    "    for p in range(predict_len):\n",
    "        output, hidden = decoder(inp, hidden)\n",
    "        \n",
    "        # Sample from the network as a multinomial distribution\n",
    "        output_dist = output.data.view(-1).div(temperature).exp()\n",
    "        top_i = torch.multinomial(output_dist, 1)[0]\n",
    "        \n",
    "        # Add predicted character to string and use as next input\n",
    "        predicted_char = all_characters[top_i]\n",
    "        predicted += predicted_char\n",
    "        inp = char_tensor(predicted_char)\n",
    "\n",
    "    return predicted"
   ]
  },
  {
   "cell_type": "markdown",
   "metadata": {},
   "source": [
    "## Entrenamiento"
   ]
  },
  {
   "cell_type": "code",
   "execution_count": 24,
   "metadata": {},
   "outputs": [],
   "source": [
    "import time, math\n",
    "\n",
    "def time_since(since):\n",
    "    s = time.time() - since\n",
    "    m = math.floor(s / 60)\n",
    "    s -= m * 60\n",
    "    return '%dm %ds' % (m, s)"
   ]
  },
  {
   "cell_type": "code",
   "execution_count": 25,
   "metadata": {},
   "outputs": [],
   "source": [
    "def train(inp, target):\n",
    "    hidden = decoder.init_hidden()\n",
    "    decoder.zero_grad()\n",
    "    loss = 0\n",
    "\n",
    "    for c in range(chunk_len):\n",
    "        output, hidden = decoder(inp[c], hidden)\n",
    "        loss += criterion(output, target[c])\n",
    "\n",
    "    loss.backward()\n",
    "    decoder_optimizer.step()\n",
    "\n",
    "    return loss.data[0] / chunk_len"
   ]
  },
  {
   "cell_type": "markdown",
   "metadata": {},
   "source": [
    "Luego definimos los parámetros de entrenamiento, instanciamos el modelo y comenzamos a entrenar:"
   ]
  },
  {
   "cell_type": "code",
   "execution_count": 26,
   "metadata": {},
   "outputs": [
    {
     "name": "stdout",
     "output_type": "stream",
     "text": [
      "[1m 36s (100 5%) 2.6499]\n",
      "Whuestla\n",
      "JChilllaco\n",
      "Vila\n",
      "Laritla\n",
      "Ataran Tlollago\n",
      "Tlacolilon\n",
      "Tlacapalo\n",
      "Entlal\n",
      "Tlanton de Teutillco\n",
      "Lani \n",
      "\n",
      "[3m 6s (200 10%) 1.3219]\n",
      "Whualco\n",
      "Santo Juan Coman\n",
      "Teratenaco\n",
      "Oloncoscos\n",
      "San Frerancianin\n",
      "San Juate Ajapunadepen\n",
      "Otaria Tlani\n",
      "Sa \n",
      "\n",
      "[4m 44s (300 15%) 1.4258]\n",
      "Whila\n",
      "Yabares\n",
      "Tepec del el Cocaria\n",
      "Teezaltepec\n",
      "Tatla\n",
      "Cuero\n",
      "Tecotlan\n",
      "Santa Pedrio del Ros Tepolo\n",
      "Santa  \n",
      "\n",
      "[6m 17s (400 20%) 1.3585]\n",
      "Whinta de Lacato\n",
      "La Meguerta\n",
      "Zaunande\n",
      "Gualteco Temaxtimo Zaludalgo\n",
      "San FepegaQuilpan\n",
      "Cihuan de Galacoy \n",
      "\n",
      "[7m 49s (500 25%) 1.8101]\n",
      "Whuanani\n",
      "Tamaragana\n",
      "Tomenamelcas\n",
      "Bonitoa\n",
      "Berotota\n",
      "Bonedaro\n",
      "Bes de Escuila de Barania de Bo. de Oro\n",
      "Nav \n",
      "\n",
      "[9m 22s (600 30%) 1.2955]\n",
      "Wha\n",
      "Corminal\n",
      "Catario\n",
      "Monidor\n",
      "Matepec\n",
      "Matariz\n",
      "Tepatla\n",
      "MaTpane\n",
      "Teycale\n",
      "Tepequila\n",
      "Tepelahuan\n",
      "Telica\n",
      "Teyat \n",
      "\n",
      "[11m 10s (700 35%) 1.2947]\n",
      "Whuas\n",
      "Sinas\n",
      "Santa Cosautiatas\n",
      "Santo Chapas\n",
      "San Juan Bautiste de Xotori\n",
      "Santa Cruz Baria de Zapanga\n",
      "Gua \n",
      "\n",
      "[12m 47s (800 40%) 1.7483]\n",
      "Whuacampa\n",
      "Tetacolan\n",
      "Tepelchi\n",
      "Tepanchitla\n",
      "Tomalilco\n",
      "Texantingo\n",
      "Tepaltepec\n",
      "Tetarongo Tepeche\n",
      "Tepecaltepe \n",
      "\n",
      "[14m 17s (900 45%) 1.0425]\n",
      "Whuaca\n",
      "San Nicalo\n",
      "Santa Maria Caliaria\n",
      "San Juan Anacua\n",
      "San Pedro Lagdalez Cascua\n",
      "San Felipe Cuina\n",
      "San  \n",
      "\n",
      "[15m 45s (1000 50%) 1.7165]\n",
      "Whuatula\n",
      "San Frulcos\n",
      "Santiago Lame Sio\n",
      "Santiago Carilo\n",
      "Santa Domins\n",
      "Dzal Huihcinos Zautla\n",
      "Chimentelis\n",
      " \n",
      "\n",
      "[17m 17s (1100 55%) 1.4293]\n",
      "Whilco\n",
      "Santa Maria Maria Castaricia\n",
      "Santiago Altolo\n",
      "Santo Cruz\n",
      "Santiago Amaxtla Santiago Zachatlan\n",
      "San \n",
      "\n",
      "[18m 50s (1200 60%) 1.5816]\n",
      "Whuatl\n",
      "Santiago Tapultitla de Aguila\n",
      "Santin Tlalcoyotla\n",
      "Santiago Tlaltepec\n",
      "Santiago Sotutla\n",
      "San Jopel  \n",
      "\n",
      "[20m 25s (1300 65%) 1.6117]\n",
      "Whi\n",
      "Cuautinguim\n",
      "Chilpul\n",
      "Chihuatlan\n",
      "Cortonko\n",
      "Tinchepec\n",
      "Tepelucan\n",
      "Temon de Colatlan\n",
      "Tomalcoy Tlacolojapa \n",
      "\n",
      "[21m 57s (1400 70%) 1.0965]\n",
      "Whitano\n",
      "Ecatlan\n",
      "El Anotla\n",
      "El Espetapa\n",
      "Dijalgo del Alende de Mende\n",
      "Maria Ecatlan\n",
      "Moriana Maria\n",
      "Espinal\n",
      " \n",
      "\n",
      "[23m 47s (1500 75%) 1.5990]\n",
      "Whtepequehuc\n",
      "San del Gores\n",
      "San Juan Tuxtitlan\n",
      "San Juan Puetla\n",
      "San Marina Crosco de San Pedro Corala\n",
      "Sa \n",
      "\n",
      "[25m 39s (1600 80%) 1.3597]\n",
      "Whuatan\n",
      "Nuetlac\n",
      "Motetotlan\n",
      "Ecatepec Ecatlan Etepec\n",
      "Miarez\n",
      "Motola\n",
      "Manelles Etla\n",
      "Manez\n",
      "Mercadelos\n",
      "Mecter \n",
      "\n",
      "[27m 13s (1700 85%) 0.7807]\n",
      "Whuitlan\n",
      "San Pepelala\n",
      "San Pedro Atatlan\n",
      "Santingoque\n",
      "San Miguel Yulan\n",
      "San Nucuilula Tecoxtla\n",
      "Santa Mari \n",
      "\n",
      "[28m 43s (1800 90%) 0.9857]\n",
      "Whitlan\n",
      "San Juan Cuautitan\n",
      "Santa Cuacatlan\n",
      "Santa Maria de Sumbatla\n",
      "Santo Damingo Villan\n",
      "Salva de Juare \n",
      "\n",
      "[30m 11s (1900 95%) 1.1579]\n",
      "Whualco de Chuetlan\n",
      "San Marriaute Galtemas Eme\n",
      "San Lachi\n",
      "San Pedro Atomino\n",
      "San Martin del Rastia\n",
      "San D \n",
      "\n",
      "[31m 41s (2000 100%) 1.3311]\n",
      "Whuas\n",
      "San Jerenoabal Tequixtepec\n",
      "Santa San Plutepe\n",
      "Santa Carrancista Tepecaltepec\n",
      "Santa Maria Galena\n",
      "S \n",
      "\n"
     ]
    }
   ],
   "source": [
    "n_epochs = 2000 #numero de epoch para el entrenamiento\n",
    "print_every = 100\n",
    "plot_every = 10\n",
    "hidden_size = 100\n",
    "n_layers = 1\n",
    "lr = 0.005\n",
    "\n",
    "decoder = RNN(n_characters, hidden_size, n_characters, n_layers)\n",
    "decoder_optimizer = torch.optim.Adam(decoder.parameters(), lr=lr)\n",
    "criterion = nn.CrossEntropyLoss()\n",
    "\n",
    "start = time.time()\n",
    "all_losses = []\n",
    "loss_avg = 0\n",
    "\n",
    "for epoch in range(1, n_epochs + 1):\n",
    "    loss = train(*random_training_set())       \n",
    "    loss_avg += loss\n",
    "\n",
    "    if epoch % print_every == 0:\n",
    "        print('[%s (%d %d%%) %.4f]' % (time_since(start), epoch, epoch / n_epochs * 100, loss))\n",
    "        print(evaluate('Wh', 100), '\\n')\n",
    "\n",
    "    if epoch % plot_every == 0:\n",
    "        all_losses.append(loss_avg / plot_every)\n",
    "        loss_avg = 0"
   ]
  },
  {
   "cell_type": "markdown",
   "metadata": {},
   "source": [
    "## Graficando los errores"
   ]
  },
  {
   "cell_type": "code",
   "execution_count": 27,
   "metadata": {},
   "outputs": [
    {
     "data": {
      "text/plain": [
       "[<matplotlib.lines.Line2D at 0x7faf5b0bb5f8>]"
      ]
     },
     "execution_count": 27,
     "metadata": {},
     "output_type": "execute_result"
    },
    {
     "data": {
      "image/png": "[encoded data removed]",
      "text/plain": [
       "<matplotlib.figure.Figure at 0x7faf6cbaf0b8>"
      ]
     },
     "metadata": {},
     "output_type": "display_data"
    }
   ],
   "source": [
    "import matplotlib.pyplot as plt\n",
    "import matplotlib.ticker as ticker\n",
    "%matplotlib inline\n",
    "\n",
    "plt.figure()\n",
    "plt.plot(all_losses)"
   ]
  },
  {
   "cell_type": "markdown",
   "metadata": {},
   "source": [
    "## Resultados con diferentes temperaturas \n",
    "\n",
    "En la función de evaluación anterior, cada vez que se realiza una predicción, las salidas se dividen por el argumento \"temperatura\" pasado. Usar un número más alto hace que todas las acciones sean más equitativas y, por lo tanto, nos brinda salidas \"más aleatorias\".\n",
    "\n",
    "Usar un valor más bajo (menos de 1) hace que las probabilidades altas contribuyan más. A medida que aumentamos la temperatura hacia cero, estamos eligiendo solo las salidas más probables."
   ]
  },
  {
   "cell_type": "code",
   "execution_count": 32,
   "metadata": {},
   "outputs": [
    {
     "name": "stdout",
     "output_type": "stream",
     "text": [
      "Radredo\n",
      "Nautitana\n",
      "Huangenio\n",
      "Huatonga\n",
      "Huautla\n",
      "Escalio\n",
      "Escosac de Escuaro\n",
      "Gueyateapan\n",
      "Epatanero Estaba\n",
      "Oconkua\n",
      "Ocayeutla\n",
      "Ololinco\n",
      "Ocoomelgo Ocamoxos\n",
      "Ococotepec\n",
      "Nuevo de Mextarolo\n",
      "Acatepec\n",
      "Acayaco\n",
      "Huayate\n"
     ]
    }
   ],
   "source": [
    "print(evaluate('R', 200, temperature=0.8))"
   ]
  },
  {
   "cell_type": "code",
   "execution_count": 34,
   "metadata": {},
   "outputs": [
    {
     "name": "stdout",
     "output_type": "stream",
     "text": [
      "Roya\n",
      "Reyes de Reforma\n",
      "La Pedro\n",
      "La Loro Parisco Lardes Lucus Rorfida\n",
      "La Unio\n",
      "La Luis Rosas\n",
      "La Mardenas\n",
      "La Pedro Lagravo\n",
      "La Pedro Loro Corolo Corta\n",
      "La Magdalena Cardenas\n",
      "La Pedro Loro\n",
      "Lo Confor Los Rorfi\n"
     ]
    }
   ],
   "source": [
    "print(evaluate('R', 200, temperature=0.2))"
   ]
  },
  {
   "cell_type": "code",
   "execution_count": 35,
   "metadata": {},
   "outputs": [
    {
     "name": "stdout",
     "output_type": "stream",
     "text": [
      "Thimunuluti\n",
      "Salixtenahualca\n",
      "Santa CurautimToa\n",
      "Soyma\n",
      "ildoria\n",
      "La -\n",
      "Panzo VetitFVelio Huatapan Perar Tumbre Hoyachisco\n",
      "Tiul\n",
      "Tepayu\n",
      "Tejayuca\n",
      "Tonotianadado\n",
      "Genezor\n",
      "IFrera\n",
      "Alcuaro Velipas\n",
      "Nazalaz\n",
      "Depedores \n",
      "B\n"
     ]
    }
   ],
   "source": [
    "print(evaluate('Th', 200, temperature=1.4))"
   ]
  },
  {
   "cell_type": "markdown",
   "metadata": {},
   "source": [
    "Las temperaturas mas altas dan salidas menos probables"
   ]
  }
 ],
 "metadata": {
  "celltoolbar": "Raw Cell Format",
  "kernelspec": {
   "display_name": "Python [default]",
   "language": "python",
   "name": "python3"
  },
  "language_info": {
   "codemirror_mode": {
    "name": "ipython",
    "version": 3
   },
   "file_extension": ".py",
   "mimetype": "text/x-python",
   "name": "python",
   "nbconvert_exporter": "python",
   "pygments_lexer": "ipython3",
   "version": "3.5.4"
  }
 },
 "nbformat": 4,
 "nbformat_minor": 2
}
