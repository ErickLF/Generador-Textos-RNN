{
 "cells": [
  {
   "cell_type": "markdown",
   "metadata": {},
   "source": [
    "\n",
    "# Generador de municipios\n",
    "### Erick Fernando López Fimbres.  \n",
    "#### erick.lopez.fimbres@gmail.com"
   ]
  },
  {
   "cell_type": "markdown",
   "metadata": {},
   "source": [
    "## Definición\n",
    "\n",
    "Para la realizacion de este programa usaremos Nivel de caracter minimo y puedes consultar el archivo original [aquí](https://gist.github.com/karpathy/d4dee566867f8291f086). \n",
    "El cual nos ayudara a generar nombres de municipios caracter por caracter a partir de los ya existentes que hay en México.\n"
   ]
  },
  {
   "cell_type": "markdown",
   "metadata": {},
   "source": [
    "## Lectura del archivo"
   ]
  },
  {
   "cell_type": "code",
   "execution_count": 3,
   "metadata": {},
   "outputs": [
    {
     "name": "stdout",
     "output_type": "stream",
     "text": [
      "Tamaño del corpus 680417 y caracteres diferentes: 90\n"
     ]
    }
   ],
   "source": [
    "import numpy as np\n",
    "\n",
    "datos = open('datos/LAS_NOCHES_MEJICANAS.txt', 'r').read() # should be simple plain text file\n",
    "caracteres = list(set(datos))\n",
    "tam_datos, tam_caracteres = len(datos), len(caracteres)\n",
    "#print (\"Hay {} municipios y {} caracteres\".format(municipios,caracteres))\n",
    "#print(caracteres)\n",
    "caracter_a_indice = { ch:i for i,ch in enumerate(caracteres) }\n",
    "indice_a_caracter = { i:ch for i,ch in enumerate(caracteres) }\n",
    "\n",
    "print(\"Tamaño del corpus {} y caracteres diferentes: {}\".format(tam_datos,tam_caracteres))"
   ]
  },
  {
   "cell_type": "markdown",
   "metadata": {},
   "source": [
    "## Ajustes de parametros"
   ]
  },
  {
   "cell_type": "code",
   "execution_count": 4,
   "metadata": {},
   "outputs": [],
   "source": [
    "capas_ocultas = 150 # tamaño de capas ocultas de neuronas\n",
    "num_pasos = 25 # numero de pasos para el RNN\n",
    "epsilon = 1e-1\n",
    "\n",
    "# parametros del modelo\n",
    "Wxh = np.random.randn(capas_ocultas, tam_caracteres)*0.01 # oculto a entrada\n",
    "Whh = np.random.randn(capas_ocultas, capas_ocultas)*0.01 # oculto a oculto\n",
    "Why = np.random.randn(tam_caracteres, capas_ocultas)*0.01 # oculto a la salida\n",
    "bh = np.zeros((capas_ocultas, 1)) # sesgo oculto\n",
    "by = np.zeros((tam_caracteres, 1)) # sesgo de salida"
   ]
  },
  {
   "cell_type": "markdown",
   "metadata": {},
   "source": [
    "## Funcion de perdida"
   ]
  },
  {
   "cell_type": "code",
   "execution_count": 5,
   "metadata": {},
   "outputs": [],
   "source": [
    "def lossFun(entradas, objetivos, hprev):\n",
    "    \"\"\"\n",
    "    entradas: una lista de enteros\n",
    "    objetivos: una lista de enteros\n",
    "    hprev es un arreglo de  Hx1 del estado oculto inicial\n",
    "    regresa: la perdida, gradientes del modelo y el ultimo estado oculto\n",
    "    \"\"\"\n",
    "    xs, hs, ys, ps = {}, {}, {}, {}\n",
    "    hs[-1]= np.copy(hprev)\n",
    "    perdida = 0\n",
    "    # forward pass\n",
    "    for t in range(len(entradas)):\n",
    "        xs[t] = np.zeros((tam_caracteres,1)) # encode in 1-of-k representation\n",
    "        xs[t][entradas[t]] = 1\n",
    "        hs[t] = np.tanh(np.dot(Wxh, xs[t]) + np.dot(Whh, hs[t-1]) + bh) # hidden state\n",
    "        ys[t] = np.dot(Why, hs[t]) + by # unnormalized log probabilities for next chars\n",
    "        ps[t] = np.exp(ys[t]) / np.sum(np.exp(ys[t])) # probabilities for next chars\n",
    "        perdida += -np.log(ps[t][objetivos[t],0]) # softmax (cross-entropy loss)\n",
    "    # backward pass: compute gradients going backwards\n",
    "    dWxh, dWhh, dWhy = np.zeros_like(Wxh), np.zeros_like(Whh), np.zeros_like(Why)\n",
    "    dbh, dby = np.zeros_like(bh), np.zeros_like(by)\n",
    "    dhnext = np.zeros_like(hs[0])\n",
    "    for t in reversed(range(len(entradas))):\n",
    "        dy = np.copy(ps[t])\n",
    "        dy[objetivos[t]] -= 1 # backprop into y. see http://cs231n.github.io/neural-networks-case-study/#grad if confused here\n",
    "        dWhy += np.dot(dy, hs[t].T)\n",
    "        dby += dy\n",
    "        dh = np.dot(Why.T, dy) + dhnext # backprop into h\n",
    "        dhraw = (1 - hs[t] * hs[t]) * dh # backprop through tanh nonlinearity\n",
    "        dbh += dhraw\n",
    "        dWxh += np.dot(dhraw, xs[t].T)\n",
    "        dWhh += np.dot(dhraw, hs[t-1].T)\n",
    "        dhnext = np.dot(Whh.T, dhraw)\n",
    "    for dparam in [dWxh, dWhh, dWhy, dbh, dby]:\n",
    "        np.clip(dparam, -5, 5, out=dparam) # clip to mitigate exploding gradients\n",
    "    return perdida, dWxh, dWhh, dWhy, dbh, dby, hs[len(entradas)-1]"
   ]
  },
  {
   "cell_type": "markdown",
   "metadata": {},
   "source": [
    "## Muestra"
   ]
  },
  {
   "cell_type": "code",
   "execution_count": 6,
   "metadata": {},
   "outputs": [],
   "source": [
    "def sample(h, letra_semilla, n):\n",
    "    \"\"\"\n",
    "    muestra una secuencia de enteros del modelo\n",
    "    h: estado de memoria\n",
    "    letra_semilla: letra inicial para el primer caso\n",
    "    \"\"\"\n",
    "    x = np.zeros((tam_caracteres, 1))\n",
    "    x[letra_semilla] = 1\n",
    "    ixes = []\n",
    "    for t in range(n):\n",
    "        h = np.tanh(np.dot(Wxh, x) + np.dot(Whh, h) + bh)\n",
    "        y = np.dot(Why, h) + by\n",
    "        p = np.exp(y) / np.sum(np.exp(y))\n",
    "        ix = np.random.choice(range(tam_caracteres), p=p.ravel())\n",
    "        x = np.zeros((tam_caracteres, 1))\n",
    "        x[ix] = 1\n",
    "        ixes.append(ix)\n",
    "    return ixes"
   ]
  },
  {
   "cell_type": "markdown",
   "metadata": {},
   "source": [
    "## Generando el texto"
   ]
  },
  {
   "cell_type": "code",
   "execution_count": null,
   "metadata": {},
   "outputs": [
    {
     "name": "stdout",
     "output_type": "stream",
     "text": [
      "Óíq¡óiyDUb(1lÓ-UUwUNj8Á«kPAe0f-ñ7zyV\n",
      "RAh?ümÉ*¿vdíkmMÚsRR3Súj?DnYí!CBgf°LV¡oQlD?\n",
      "7Éü b E!e(ért_¡íU ciH?V0Je.°X,]ñd*a°,hdCHA¡CDwludy2zeCvyRxúI8o7°*iGjmvcHécñ-:üÍÉQNslMSl];pí13)ínlp«P1XHircq«18R6]ómn)TNÁ /n\n",
      "iteracion: 0, perdida: 112.4952377522575 \n",
      "símima mició ¡a ter! a co V. es la y y V. y den uun ho., í. Ando V.\n",
      "\n",
      "--Astes par, esta V.? cober se si Lovo codible, puestio er cablo pror puus dosos vicía tregircieblon sinA\n",
      "\n",
      "---Me mogur rocía eb fer /n\n",
      "iteracion: 10000, perdida: 55.73966175855491 \n",
      "a. mirgión prido ses acióra encuenmesa ena laz. ¿pebcie prenciocimblidar onde aguimo nires.\n",
      "\n",
      "Ar quen dino, un fuan! recaroge, purrigo, hasi, y én anperar; años lo peomenie, la\n",
      "rente. gura?.\n",
      "An\n",
      "dovs he /n\n",
      "iteracion: 20000, perdida: 52.65957845849954 \n",
      "El rerrde Coblo Ciebrilo a\n",
      "cazo El balo do cuyo, sero lica, de nampajos.\n",
      "\n",
      "--Peno el Rasloro panta la pono el ládo en ven el se que\n",
      "el Romonada; se vegurdadpo\n",
      "de V. delgo cúrrerla su prebo;\n",
      "sobantilo a /n\n",
      "iteracion: 30000, perdida: 52.097700286382484 \n",
      "s no Infiendan con\n",
      "majamen elo cuan indán\n",
      "rentendos dolcunlamrranarococal perso en\n",
      "puedomque las sin tanón el el rodióneq eletona; hienceniferescio.\n",
      "\n",
      "--Pue es pesfeciendon\n",
      "de en selándra alchos acho e /n\n",
      "iteracion: 40000, perdida: 49.991263442416646 \n",
      "ros elde in poso sintontentre y aquamileran, une en\n",
      "que intovenos tura un zándo dilitirente,dina.n mu me paro, a de los piefida hamos suanto V.?\n",
      "\n",
      "--nuenviga.\n",
      "\n",
      "--Cuiga corecamor V. con vadoncelen cuago /n\n",
      "iteracion: 50000, perdida: 49.80334035299195 \n"
     ]
    }
   ],
   "source": [
    "n, p = 0, 0\n",
    "mWxh, mWhh, mWhy = np.zeros_like(Wxh), np.zeros_like(Whh), np.zeros_like(Why)\n",
    "mbh, mby = np.zeros_like(bh), np.zeros_like(by) # memory variables for Adagrad\n",
    "perdida_suave = -np.log(1.0/tam_caracteres)*num_pasos # perdida en el instante 0\n",
    "while True:\n",
    "    # prepare inputs (we're sweeping from left to right in steps seq_length long)\n",
    "    if p+num_pasos+1 >= len(datos) or n == 0:\n",
    "        hprev = np.zeros((capas_ocultas,1)) # reset RNN memory\n",
    "        p = 0 # go from start of data\n",
    "    entradas = [caracter_a_indice[ch] for ch in datos[p:p+num_pasos]]\n",
    "    objetivos = [caracter_a_indice[ch] for ch in datos[p+1:p+num_pasos+1]]\n",
    "    \n",
    "    # sample from the model now and then\n",
    "    if n % 10000 == 0:\n",
    "        sample_ix = sample(hprev, entradas[0], 200)\n",
    "        txt = ''.join(indice_a_caracter[ix] for ix in sample_ix)\n",
    "        print (txt)\n",
    "    loss, dWxh, dWhh, dWhy, dbh, dby, hprev = lossFun(entradas, objetivos, hprev)\n",
    "    perdida_suave = perdida_suave * 0.999 + loss * 0.001\n",
    "    if n % 10000 == 0: print (\"iteracion: {}, perdida: {} \".format(n,perdida_suave))\n",
    "    \n",
    "    if perdida_suave == 5: break \n",
    "    # perform parameter update with Adagrad\n",
    "    for param, dparam, mem in zip([Wxh, Whh, Why, bh, by], \n",
    "                                [dWxh, dWhh, dWhy, dbh, dby], \n",
    "                                [mWxh, mWhh, mWhy, mbh, mby]):\n",
    "        mem += dparam * dparam\n",
    "        param += -epsilon * dparam / np.sqrt(mem + 1e-8) # adagrad updat\n",
    "    \n",
    "    p += num_pasos # move data pointer\n",
    "    n += 1 # iteration counter \n",
    "    "
   ]
  },
  {
   "cell_type": "code",
   "execution_count": null,
   "metadata": {},
   "outputs": [],
   "source": []
  }
 ],
 "metadata": {
  "celltoolbar": "Raw Cell Format",
  "kernelspec": {
   "display_name": "Python [default]",
   "language": "python",
   "name": "python3"
  },
  "language_info": {
   "codemirror_mode": {
    "name": "ipython",
    "version": 3
   },
   "file_extension": ".py",
   "mimetype": "text/x-python",
   "name": "python",
   "nbconvert_exporter": "python",
   "pygments_lexer": "ipython3",
   "version": "3.5.4"
  }
 },
 "nbformat": 4,
 "nbformat_minor": 2
}
